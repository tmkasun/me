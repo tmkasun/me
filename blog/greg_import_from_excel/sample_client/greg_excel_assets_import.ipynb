{
 "cells": [
  {
   "cell_type": "code",
   "execution_count": 23,
   "metadata": {
    "collapsed": true
   },
   "outputs": [],
   "source": [
    "from base64 import b64encode # To conver password to base64 encoded string\n",
    "import requests"
   ]
  },
  {
   "cell_type": "code",
   "execution_count": 24,
   "metadata": {
    "collapsed": true
   },
   "outputs": [],
   "source": [
    "host = \"localhost\"\n",
    "port = 9443\n",
    "artifact_endpoint = \"https://{host}:{port}/resource/1.0.0/artifact/\".format(host=host, port=port)\n",
    "\n",
    "file_name = \"sample_file_2\"\n",
    "artifact_type = \"partner\"\n",
    "reg_path = \"_system/governance/trunk/{artifact_type}/{file_name}\".format(\n",
    "    artifact_type=artifact_type, file_name=file_name)"
   ]
  },
  {
   "cell_type": "code",
   "execution_count": 25,
   "metadata": {
    "collapsed": false
   },
   "outputs": [],
   "source": [
    "auth_value = b64encode(b'admin:admin')\n",
    "headers = {\n",
    "    'Authorization': '{type} {auth_value}'.format(type=\"Basic\", auth_value=auth_value.decode()),\n",
    "    'Content-Type': 'application/vnd.wso2-partner+xml',\n",
    "    'Cache-Control': 'no-cache'\n",
    "}\n",
    "data = \"\"\"<metadata xmlns=\"http://www.wso2.org/governance/metadata\">\n",
    "  <overview>\n",
    "    <contract>BAA</contract>\n",
    "    <name>WSO2 Inc</name>\n",
    "    <description>This is a sample partner asset</description>\n",
    "    <status>Active</status>\n",
    "  </overview>\n",
    "  <notes>\n",
    "    <notes>Sample partner notes</notes>\n",
    "  </notes>\n",
    "</metadata>\"\"\""
   ]
  },
  {
   "cell_type": "code",
   "execution_count": 26,
   "metadata": {
    "collapsed": false
   },
   "outputs": [
    {
     "name": "stderr",
     "output_type": "stream",
     "text": [
      "/usr/lib/python3/dist-packages/urllib3/connectionpool.py:794: InsecureRequestWarning: Unverified HTTPS request is being made. Adding certificate verification is strongly advised. See: https://urllib3.readthedocs.org/en/latest/security.html\n",
      "  InsecureRequestWarning)\n"
     ]
    }
   ],
   "source": [
    "request_url = artifact_endpoint + reg_path\n",
    "response = requests.put(request_url, data=data, headers=headers, verify=False)"
   ]
  },
  {
   "cell_type": "code",
   "execution_count": 33,
   "metadata": {
    "collapsed": false
   },
   "outputs": [
    {
     "name": "stdout",
     "output_type": "stream",
     "text": [
      "Response Content = b'Created : /_system/governance/trunk/partner/sample_file_2'\n",
      "Status Code = 201\n"
     ]
    }
   ],
   "source": [
    "print(\"Response Content = {}\\nStatus Code = {}\".format(response.content, response.status_code))    "
   ]
  },
  {
   "cell_type": "code",
   "execution_count": 34,
   "metadata": {
    "collapsed": true
   },
   "outputs": [],
   "source": [
    "import openpyxl"
   ]
  },
  {
   "cell_type": "code",
   "execution_count": 37,
   "metadata": {
    "collapsed": false
   },
   "outputs": [],
   "source": [
    "wb = openpyxl.load_workbook('./sample_greg_excel_import.xlsx')"
   ]
  },
  {
   "cell_type": "code",
   "execution_count": 42,
   "metadata": {
    "collapsed": false
   },
   "outputs": [],
   "source": [
    "name = wb.get_sheet_names()[0]"
   ]
  },
  {
   "cell_type": "code",
   "execution_count": 43,
   "metadata": {
    "collapsed": false
   },
   "outputs": [],
   "source": [
    "sheet = wb.get_sheet_by_name(name)"
   ]
  },
  {
   "cell_type": "code",
   "execution_count": 57,
   "metadata": {
    "collapsed": false
   },
   "outputs": [
    {
     "name": "stdout",
     "output_type": "stream",
     "text": [
      "contract\n",
      "contractor_1\n",
      "contractor_2\n",
      "contractor_3\n",
      "contractor_4\n",
      "contractor_5\n",
      "contractor_6\n",
      "contractor_7\n",
      "contractor_8\n",
      "contractor_9\n",
      "contractor_10\n",
      "contractor_11\n",
      "contractor_12\n",
      "contractor_13\n",
      "contractor_14\n",
      "contractor_15\n",
      "contractor_16\n",
      "contractor_17\n",
      "contractor_18\n",
      "contractor_19\n"
     ]
    }
   ],
   "source": [
    "for row in range(1, sheet.max_row + 1):\n",
    "    contract = sheet.cell(row=row, column=1).value\n",
    "    name = sheet.cell(row=row, column=2).value\n",
    "    description = sheet.cell(row=row, column=3).value\n",
    "    status = sheet.cell(row=row, column=4).value\n",
    "    notes = sheet.cell(row=row, column=5).value\n",
    "    \n",
    "    "
   ]
  },
  {
   "cell_type": "code",
   "execution_count": 63,
   "metadata": {
    "collapsed": false
   },
   "outputs": [],
   "source": [
    "a = '{}'.format(\"asdsad\").encode()"
   ]
  },
  {
   "cell_type": "code",
   "execution_count": 64,
   "metadata": {
    "collapsed": false
   },
   "outputs": [
    {
     "data": {
      "text/plain": [
       "b'asdsad'"
      ]
     },
     "execution_count": 64,
     "metadata": {},
     "output_type": "execute_result"
    }
   ],
   "source": [
    "a"
   ]
  },
  {
   "cell_type": "code",
   "execution_count": null,
   "metadata": {
    "collapsed": true
   },
   "outputs": [],
   "source": []
  }
 ],
 "metadata": {
  "kernelspec": {
   "display_name": "Python 3",
   "language": "python",
   "name": "python3"
  },
  "language_info": {
   "codemirror_mode": {
    "name": "ipython",
    "version": 3
   },
   "file_extension": ".py",
   "mimetype": "text/x-python",
   "name": "python",
   "nbconvert_exporter": "python",
   "pygments_lexer": "ipython3",
   "version": "3.5.2"
  }
 },
 "nbformat": 4,
 "nbformat_minor": 0
}
